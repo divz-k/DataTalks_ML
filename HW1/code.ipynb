{
 "cells": [
  {
   "cell_type": "code",
   "execution_count": 20,
   "id": "70eef110",
   "metadata": {},
   "outputs": [
    {
     "data": {
      "text/plain": [
       "'2.3.3'"
      ]
     },
     "execution_count": 20,
     "metadata": {},
     "output_type": "execute_result"
    }
   ],
   "source": [
    "import pandas as pd\n",
    "import numpy as np\n",
    "pd.__version__"
   ]
  },
  {
   "cell_type": "code",
   "execution_count": 4,
   "id": "ad96c282",
   "metadata": {},
   "outputs": [
    {
     "name": "stdout",
     "output_type": "stream",
     "text": [
      "--2025-10-30 15:25:56--  https://raw.githubusercontent.com/alexeygrigorev/datasets/master/car_fuel_efficiency.csv\n",
      "Resolving raw.githubusercontent.com (raw.githubusercontent.com)... 185.199.110.133, 185.199.111.133, 185.199.108.133, ...\n",
      "Connecting to raw.githubusercontent.com (raw.githubusercontent.com)|185.199.110.133|:443... connected.\n",
      "HTTP request sent, awaiting response... 200 OK\n",
      "Length: 874188 (854K) [text/plain]\n",
      "Saving to: ‘car_fuel_efficiency.csv’\n",
      "\n",
      "car_fuel_efficiency 100%[===================>] 853.70K  --.-KB/s    in 0.009s  \n",
      "\n",
      "2025-10-30 15:25:57 (90.1 MB/s) - ‘car_fuel_efficiency.csv’ saved [874188/874188]\n",
      "\n"
     ]
    }
   ],
   "source": [
    "!wget https://raw.githubusercontent.com/alexeygrigorev/datasets/master/car_fuel_efficiency.csv"
   ]
  },
  {
   "cell_type": "code",
   "execution_count": 2,
   "id": "cc3c544c",
   "metadata": {},
   "outputs": [],
   "source": [
    "df= pd.read_csv('car_fuel_efficiency.csv')"
   ]
  },
  {
   "cell_type": "code",
   "execution_count": 9,
   "id": "73841782",
   "metadata": {},
   "outputs": [
    {
     "name": "stdout",
     "output_type": "stream",
     "text": [
      "record counts:  9704\n"
     ]
    }
   ],
   "source": [
    "record_counts = len(df)\n",
    "print('record counts: ' ,record_counts)"
   ]
  },
  {
   "cell_type": "code",
   "execution_count": 15,
   "id": "0f92d567",
   "metadata": {},
   "outputs": [
    {
     "name": "stdout",
     "output_type": "stream",
     "text": [
      "how many fuel types:  2\n"
     ]
    }
   ],
   "source": [
    "fuel_types = df.fuel_type.unique()\n",
    "print('how many fuel types: ' , len(fuel_types))"
   ]
  },
  {
   "cell_type": "code",
   "execution_count": 49,
   "id": "6019d78b",
   "metadata": {},
   "outputs": [
    {
     "name": "stdout",
     "output_type": "stream",
     "text": [
      "how many cols with missing values:  4\n"
     ]
    }
   ],
   "source": [
    "# pd.isna(df.num_cylinders).any()\n",
    "(df.isna().sum() > 0).sum().item()\n",
    "cols_nanCount= df.isna().sum()\n",
    "\n",
    "\n",
    "print('how many cols with missing values: ' , (cols_nanCount>0).sum().item())\n",
    "\n"
   ]
  },
  {
   "cell_type": "code",
   "execution_count": 61,
   "id": "c1f45a20",
   "metadata": {},
   "outputs": [
    {
     "name": "stdout",
     "output_type": "stream",
     "text": [
      "max fuel efficiency from asia:  23.759122836520497\n"
     ]
    }
   ],
   "source": [
    "df[df.origin=='Asia'].fuel_efficiency_mpg.max()\n",
    "print('max fuel efficiency from asia: ' , df[df.origin=='Asia'].fuel_efficiency_mpg.max())"
   ]
  },
  {
   "cell_type": "code",
   "execution_count": 72,
   "id": "2d577d41",
   "metadata": {},
   "outputs": [
    {
     "name": "stdout",
     "output_type": "stream",
     "text": [
      "median horsepower:  152.0\n",
      "most frequent horsepower:  152.0\n",
      "new median horsepower:  152.0\n"
     ]
    }
   ],
   "source": [
    "df.horsepower.median()\n",
    "print('median horsepower: ' , df.horsepower.median())\n",
    "most_frequent_horsepower = df.horsepower.mode().item()\n",
    "print('most frequent horsepower: ' , most_frequent_horsepower)\n",
    "\n",
    "df.horsepower = df.horsepower.fillna(most_frequent_horsepower)\n",
    "df.horsepower.median()\n",
    "print('new median horsepower: ' , df.horsepower.median())\n"
   ]
  },
  {
   "cell_type": "code",
   "execution_count": 85,
   "id": "f6318f93",
   "metadata": {},
   "outputs": [
    {
     "ename": "AttributeError",
     "evalue": "'list' object has no attribute 'to_numpy'",
     "output_type": "error",
     "traceback": [
      "\u001b[31m---------------------------------------------------------------------------\u001b[39m",
      "\u001b[31mAttributeError\u001b[39m                            Traceback (most recent call last)",
      "\u001b[36mCell\u001b[39m\u001b[36m \u001b[39m\u001b[32mIn[85]\u001b[39m\u001b[32m, line 2\u001b[39m\n\u001b[32m      1\u001b[39m newArray= \u001b[43m[\u001b[49m\u001b[43mdf\u001b[49m\u001b[43m[\u001b[49m\u001b[43mdf\u001b[49m\u001b[43m.\u001b[49m\u001b[43morigin\u001b[49m\u001b[43m==\u001b[49m\u001b[33;43m'\u001b[39;49m\u001b[33;43mAsia\u001b[39;49m\u001b[33;43m'\u001b[39;49m\u001b[43m]\u001b[49m\u001b[43m.\u001b[49m\u001b[43mvehicle_weight\u001b[49m\u001b[43m[\u001b[49m\u001b[43m:\u001b[49m\u001b[32;43m7\u001b[39;49m\u001b[43m]\u001b[49m\u001b[43m.\u001b[49m\u001b[43mvalues\u001b[49m\u001b[43m,\u001b[49m\u001b[43m \u001b[49m\n\u001b[32m----> \u001b[39m\u001b[32m2\u001b[39m \u001b[43m            \u001b[49m\u001b[43mdf\u001b[49m\u001b[43m[\u001b[49m\u001b[43mdf\u001b[49m\u001b[43m.\u001b[49m\u001b[43morigin\u001b[49m\u001b[43m==\u001b[49m\u001b[33;43m'\u001b[39;49m\u001b[33;43mEurope\u001b[39;49m\u001b[33;43m'\u001b[39;49m\u001b[43m]\u001b[49m\u001b[43m.\u001b[49m\u001b[43mmodel_year\u001b[49m\u001b[43m[\u001b[49m\u001b[43m:\u001b[49m\u001b[32;43m7\u001b[39;49m\u001b[43m]\u001b[49m\u001b[43m.\u001b[49m\u001b[43mvalues\u001b[49m\u001b[43m]\u001b[49m\u001b[43m.\u001b[49m\u001b[43mto_numpy\u001b[49m()\n",
      "\u001b[31mAttributeError\u001b[39m: 'list' object has no attribute 'to_numpy'"
     ]
    }
   ],
   "source": [
    "newArray= [df[df.origin=='Asia'].vehicle_weight[:7].values, \n",
    "            df[df.origin=='Europe'].model_year[:7].values].to_numpy()"
   ]
  },
  {
   "cell_type": "code",
   "execution_count": 84,
   "id": "a789625c",
   "metadata": {},
   "outputs": [
    {
     "data": {
      "text/plain": [
       "list"
      ]
     },
     "execution_count": 84,
     "metadata": {},
     "output_type": "execute_result"
    }
   ],
   "source": [
    "type(newArray)"
   ]
  },
  {
   "cell_type": "code",
   "execution_count": null,
   "id": "1ef23676",
   "metadata": {},
   "outputs": [],
   "source": []
  }
 ],
 "metadata": {
  "kernelspec": {
   "display_name": "ml-zoomcamp",
   "language": "python",
   "name": "python3"
  },
  "language_info": {
   "codemirror_mode": {
    "name": "ipython",
    "version": 3
   },
   "file_extension": ".py",
   "mimetype": "text/x-python",
   "name": "python",
   "nbconvert_exporter": "python",
   "pygments_lexer": "ipython3",
   "version": "3.11.14"
  }
 },
 "nbformat": 4,
 "nbformat_minor": 5
}
